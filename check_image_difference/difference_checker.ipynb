{
 "cells": [
  {
   "cell_type": "code",
   "execution_count": null,
   "metadata": {},
   "outputs": [
    {
     "ename": "error",
     "evalue": "OpenCV(4.11.0) D:\\a\\opencv-python\\opencv-python\\opencv\\modules\\imgproc\\src\\color.cpp:199: error: (-215:Assertion failed) !_src.empty() in function 'cv::cvtColor'\n",
     "output_type": "error",
     "traceback": [
      "\u001b[31m---------------------------------------------------------------------------\u001b[39m",
      "\u001b[31merror\u001b[39m                                     Traceback (most recent call last)",
      "\u001b[36mCell\u001b[39m\u001b[36m \u001b[39m\u001b[32mIn[5]\u001b[39m\u001b[32m, line 11\u001b[39m\n\u001b[32m      9\u001b[39m \u001b[38;5;66;03m# Convert images to grayscale\u001b[39;00m\n\u001b[32m     10\u001b[39m before_gray = cv2.cvtColor(before, cv2.COLOR_BGR2GRAY)\n\u001b[32m---> \u001b[39m\u001b[32m11\u001b[39m after_gray = \u001b[43mcv2\u001b[49m\u001b[43m.\u001b[49m\u001b[43mcvtColor\u001b[49m\u001b[43m(\u001b[49m\u001b[43mafter\u001b[49m\u001b[43m,\u001b[49m\u001b[43m \u001b[49m\u001b[43mcv2\u001b[49m\u001b[43m.\u001b[49m\u001b[43mCOLOR_BGR2GRAY\u001b[49m\u001b[43m)\u001b[49m\n\u001b[32m     13\u001b[39m \u001b[38;5;66;03m# Compute SSIM between the two images\u001b[39;00m\n\u001b[32m     14\u001b[39m (score, diff) = structural_similarity(before_gray, after_gray, full=\u001b[38;5;28;01mTrue\u001b[39;00m)\n",
      "\u001b[31merror\u001b[39m: OpenCV(4.11.0) D:\\a\\opencv-python\\opencv-python\\opencv\\modules\\imgproc\\src\\color.cpp:199: error: (-215:Assertion failed) !_src.empty() in function 'cv::cvtColor'\n"
     ]
    }
   ],
   "source": [
    "from skimage.metrics import structural_similarity\n",
    "import cv2\n",
    "import numpy as np\n",
    "\n",
    "# Load images\n",
    "before = cv2.imread('images\\\\reference.jpeg')\n",
    "after = cv2.imread('images\\\\new_image.jpeg')\n",
    "\n",
    "# Convert images to grayscale\n",
    "before_gray = cv2.cvtColor(before, cv2.COLOR_BGR2GRAY)\n",
    "after_gray = cv2.cvtColor(after, cv2.COLOR_BGR2GRAY)\n",
    "\n",
    "# Compute SSIM between the two images\n",
    "(score, diff) = structural_similarity(before_gray, after_gray, full=True)\n",
    "print(\"Image Similarity: {:.4f}%\".format(score * 100))\n",
    "\n",
    "# The diff image contains the actual image differences between the two images\n",
    "# and is represented as a floating point data type in the range [0,1] \n",
    "# so we must convert the array to 8-bit unsigned integers in the range\n",
    "# [0,255] before we can use it with OpenCV\n",
    "diff = (diff * 255).astype(\"uint8\")\n",
    "diff_box = cv2.merge([diff, diff, diff])\n",
    "\n",
    "# Threshold the difference image, followed by finding contours to\n",
    "# obtain the regions of the two input images that differ\n",
    "thresh = cv2.threshold(diff, 0, 255, cv2.THRESH_BINARY_INV | cv2.THRESH_OTSU)[1]\n",
    "contours = cv2.findContours(thresh, cv2.RETR_EXTERNAL, cv2.CHAIN_APPROX_SIMPLE)\n",
    "contours = contours[0] if len(contours) == 2 else contours[1]\n",
    "\n",
    "mask = np.zeros(before.shape, dtype='uint8')\n",
    "filled_after = after.copy()\n",
    "\n",
    "for c in contours:\n",
    "    area = cv2.contourArea(c)\n",
    "    if area > 40:\n",
    "        x,y,w,h = cv2.boundingRect(c)\n",
    "        cv2.rectangle(before, (x, y), (x + w, y + h), (36,255,12), 2)\n",
    "        cv2.rectangle(after, (x, y), (x + w, y + h), (36,255,12), 2)\n",
    "        cv2.rectangle(diff_box, (x, y), (x + w, y + h), (36,255,12), 2)\n",
    "        cv2.drawContours(mask, [c], 0, (255,255,255), -1)\n",
    "        cv2.drawContours(filled_after, [c], 0, (0,255,0), -1)\n",
    "\n",
    "cv2.imshow('before', before)\n",
    "cv2.imshow('after', after)\n",
    "cv2.imshow('diff', diff)\n",
    "cv2.imshow('diff_box', diff_box)\n",
    "cv2.imshow('mask', mask)\n",
    "cv2.imshow('filled after', filled_after)\n",
    "cv2.waitKey()"
   ]
  }
 ],
 "metadata": {
  "kernelspec": {
   "display_name": "Python 3",
   "language": "python",
   "name": "python3"
  },
  "language_info": {
   "codemirror_mode": {
    "name": "ipython",
    "version": 3
   },
   "file_extension": ".py",
   "mimetype": "text/x-python",
   "name": "python",
   "nbconvert_exporter": "python",
   "pygments_lexer": "ipython3",
   "version": "3.13.2"
  }
 },
 "nbformat": 4,
 "nbformat_minor": 2
}
